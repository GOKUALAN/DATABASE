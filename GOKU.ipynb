{
  "cells": [
    {
      "cell_type": "code",
      "execution_count": 9,
      "metadata": {
        "id": "yYB3kLClh6kb"
      },
      "outputs": [],
      "source": [
        "import sqlite3\n",
        "conn = sqlite3.connect('music.db')\n",
        "c = conn.cursor()\n",
        "\n",
        "c.execute('''DROP TABLE IF EXISTS Artists''')\n",
        "\n",
        "# Creation of the Table\n",
        "c.execute('''CREATE TABLE Artists\n",
        "             (id INTEGER PRIMARY KEY,\n",
        "              name TEXT,\n",
        "              youtube_views INTEGER,\n",
        "              album_sales INTEGER)''')\n",
        "\n",
        "# DATA\n",
        "data = [(1, 'YoungBoy Never Broke Again', 2580000000, 0),\n",
        "        (2, 'Bad Bunny', 2120000000, 0),\n",
        "        (3, 'Lil Baby', 1660000000, 0),\n",
        "        (4, 'Drake', 1510000000, 0),\n",
        "        (5, 'Lil Durk', 1320000000, 0),\n",
        "        (6, 'Future', 1310000000, 0),\n",
        "        (7, 'Kevin Gates', 1260000000, 0),\n",
        "        (8, 'Eminem', 1240000000, 0),\n",
        "        (9, 'Kodak Black', 1190000000, 0),\n",
        "        (10, 'Rod Wave', 1170000000, 0),\n",
        "        (11, 'Adele', 0, 8300000),\n",
        "        (12, 'Taylor Swift', 0, 7450000),\n",
        "        (13, 'Taylor Swift', 0, 7000000),\n",
        "        (14, 'Harry Styles', 0, 5460000),\n",
        "        (15, 'Olivia Rodrigo', 0, 4100000),\n",
        "        (16, 'BTS', 0, 3952496),\n",
        "        (17, 'Beyoncé', 0, 3600000),\n",
        "        (18, 'Fleetwood Mac', 0, 2790000),\n",
        "        (19, 'Kendrick Lamar', 0, 1300000),\n",
        "        (20, 'Billie Eilish', 0, 1273000)]\n",
        "\n",
        "c.executemany('INSERT INTO Artists VALUES (?,?,?,?)', data)\n",
        "\n",
        "conn.commit()"
      ]
    },
    {
      "cell_type": "code",
      "execution_count": 4,
      "metadata": {
        "colab": {
          "base_uri": "https://localhost:8080/"
        },
        "id": "GvbaTU7mqQ_o",
        "outputId": "3b2ff1a2-f1ad-4af2-b97c-cf522bcb6e8e"
      },
      "outputs": [
        {
          "name": "stdout",
          "output_type": "stream",
          "text": [
            "YoungBoy Never Broke Again 2580000000\n",
            "Bad Bunny 2120000000\n",
            "Lil Baby 1660000000\n",
            "Drake 1510000000\n",
            "Lil Durk 1320000000\n",
            "Future 1310000000\n",
            "Kevin Gates 1260000000\n",
            "Eminem 1240000000\n",
            "Kodak Black 1190000000\n",
            "Rod Wave 1170000000\n",
            "Adele 0\n",
            "Taylor Swift 0\n",
            "Taylor Swift 0\n",
            "Harry Styles 0\n",
            "Olivia Rodrigo 0\n",
            "BTS 0\n",
            "Beyoncé 0\n",
            "Fleetwood Mac 0\n",
            "Kendrick Lamar 0\n",
            "Billie Eilish 0\n"
          ]
        }
      ],
      "source": [
        "#Artists ordered from highest to lowest in terms of the number of streams.\n",
        "c.execute('SELECT * FROM Artists ORDER BY youtube_views DESC')\n",
        "for row in c:\n",
        "    print(row[1], row[2])"
      ]
    },
    {
      "cell_type": "code",
      "execution_count": 5,
      "metadata": {
        "colab": {
          "base_uri": "https://localhost:8080/"
        },
        "id": "-nmoLIkhri18",
        "outputId": "92b9d8e5-4a75-4323-8970-f11effd5b22d"
      },
      "outputs": [
        {
          "name": "stdout",
          "output_type": "stream",
          "text": [
            "Adele 8300000\n",
            "Taylor Swift 7450000\n",
            "Taylor Swift 7000000\n",
            "Harry Styles 5460000\n",
            "Olivia Rodrigo 4100000\n",
            "BTS 3952496\n",
            "Beyoncé 3600000\n",
            "Fleetwood Mac 2790000\n",
            "Kendrick Lamar 1300000\n",
            "Billie Eilish 1273000\n",
            "YoungBoy Never Broke Again 0\n",
            "Bad Bunny 0\n",
            "Lil Baby 0\n",
            "Drake 0\n",
            "Lil Durk 0\n",
            "Future 0\n",
            "Kevin Gates 0\n",
            "Eminem 0\n",
            "Kodak Black 0\n",
            "Rod Wave 0\n"
          ]
        }
      ],
      "source": [
        "#Artists ordered from highest to lowest in terms of number of albums sold.\n",
        "c.execute('SELECT * FROM Artists ORDER BY album_sales DESC')\n",
        "for row in c:\n",
        "    print(row[1], row[3])"
      ]
    },
    {
      "cell_type": "code",
      "execution_count": 6,
      "metadata": {
        "colab": {
          "base_uri": "https://localhost:8080/"
        },
        "id": "htMHMsT-rnt3",
        "outputId": "c1480624-1b43-4dfe-d806-0a4f84d102d7"
      },
      "outputs": [
        {
          "name": "stdout",
          "output_type": "stream",
          "text": [
            "No artists appear on both lists.\n"
          ]
        }
      ],
      "source": [
        "#Join query\" to see if there are artists that appear in both lists.\n",
        "\n",
        "c.execute('''SELECT a1.name\n",
        "             FROM Artists a1 JOIN Artists a2\n",
        "             ON a1.name = a2.name\n",
        "             WHERE a1.youtube_views > 0 AND a2.album_sales > 0''')\n",
        "\n",
        "result = c.fetchall()\n",
        "\n",
        "if len(result) > 0:\n",
        "    print('The following artists appear on both lists:')\n",
        "    for row in result:\n",
        "        print(row[0])\n",
        "else:\n",
        "    print('No artists appear on both lists.')\n"
      ]
    },
    {
      "cell_type": "code",
      "execution_count": 7,
      "metadata": {
        "id": "A2Ekf9M3r_1Z"
      },
      "outputs": [],
      "source": [
        "#Program to delete the entries of the artists entries of the artists they did not find in the joint query.\n",
        "\n",
        "c.execute('''SELECT a1.name\n",
        "             FROM Artists a1 JOIN Artists a2\n",
        "             ON a1.name = a2.name\n",
        "             WHERE a1.youtube_views > 0 AND a2.album_sales > 0''')\n",
        "\n",
        "\n",
        "result = c.fetchall()\n",
        "artists = [row[0] for row in result]\n",
        "\n",
        "c.execute('DELETE FROM Artists WHERE name NOT IN ({})'.format(','.join('?'*len(artists))), artists)\n",
        "\n",
        "conn.commit()"
      ]
    }
  ],
  "metadata": {
    "colab": {
      "provenance": []
    },
    "kernelspec": {
      "display_name": "Python 3",
      "name": "python3"
    },
    "language_info": {
      "codemirror_mode": {
        "name": "ipython",
        "version": 3
      },
      "file_extension": ".py",
      "mimetype": "text/x-python",
      "name": "python",
      "nbconvert_exporter": "python",
      "pygments_lexer": "ipython3",
      "version": "3.11.2"
    }
  },
  "nbformat": 4,
  "nbformat_minor": 0
}
